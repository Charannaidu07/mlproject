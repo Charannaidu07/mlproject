{
 "cells": [
  {
   "cell_type": "code",
   "execution_count": 27,
   "id": "fc01a54c",
   "metadata": {},
   "outputs": [
    {
     "name": "stdout",
     "output_type": "stream",
     "text": [
      "Defaulting to user installation because normal site-packages is not writeable\n",
      "Requirement already satisfied: catboost in c:\\users\\chara\\appdata\\roaming\\python\\python312\\site-packages (1.2.8)\n",
      "Requirement already satisfied: graphviz in c:\\users\\chara\\appdata\\roaming\\python\\python312\\site-packages (from catboost) (0.21)\n",
      "Requirement already satisfied: matplotlib in c:\\users\\chara\\appdata\\roaming\\python\\python312\\site-packages (from catboost) (3.8.2)\n",
      "Requirement already satisfied: numpy<3.0,>=1.16.0 in c:\\users\\chara\\appdata\\roaming\\python\\python312\\site-packages (from catboost) (1.26.3)\n",
      "Requirement already satisfied: pandas>=0.24 in c:\\users\\chara\\appdata\\roaming\\python\\python312\\site-packages (from catboost) (2.2.0)\n",
      "Requirement already satisfied: scipy in c:\\users\\chara\\appdata\\roaming\\python\\python312\\site-packages (from catboost) (1.15.1)\n",
      "Requirement already satisfied: plotly in c:\\users\\chara\\appdata\\roaming\\python\\python312\\site-packages (from catboost) (6.2.0)\n",
      "Requirement already satisfied: six in c:\\users\\chara\\appdata\\roaming\\python\\python312\\site-packages (from catboost) (1.16.0)\n",
      "Requirement already satisfied: python-dateutil>=2.8.2 in c:\\users\\chara\\appdata\\roaming\\python\\python312\\site-packages (from pandas>=0.24->catboost) (2.8.2)\n",
      "Requirement already satisfied: pytz>=2020.1 in c:\\users\\chara\\appdata\\roaming\\python\\python312\\site-packages (from pandas>=0.24->catboost) (2023.4)\n",
      "Requirement already satisfied: tzdata>=2022.7 in c:\\users\\chara\\appdata\\roaming\\python\\python312\\site-packages (from pandas>=0.24->catboost) (2023.4)\n",
      "Requirement already satisfied: contourpy>=1.0.1 in c:\\users\\chara\\appdata\\roaming\\python\\python312\\site-packages (from matplotlib->catboost) (1.2.0)\n",
      "Requirement already satisfied: cycler>=0.10 in c:\\users\\chara\\appdata\\roaming\\python\\python312\\site-packages (from matplotlib->catboost) (0.12.1)\n",
      "Requirement already satisfied: fonttools>=4.22.0 in c:\\users\\chara\\appdata\\roaming\\python\\python312\\site-packages (from matplotlib->catboost) (4.48.1)\n",
      "Requirement already satisfied: kiwisolver>=1.3.1 in c:\\users\\chara\\appdata\\roaming\\python\\python312\\site-packages (from matplotlib->catboost) (1.4.5)\n",
      "Requirement already satisfied: packaging>=20.0 in c:\\users\\chara\\appdata\\roaming\\python\\python312\\site-packages (from matplotlib->catboost) (23.2)\n",
      "Requirement already satisfied: pillow>=8 in c:\\users\\chara\\appdata\\roaming\\python\\python312\\site-packages (from matplotlib->catboost) (10.2.0)\n",
      "Requirement already satisfied: pyparsing>=2.3.1 in c:\\users\\chara\\appdata\\roaming\\python\\python312\\site-packages (from matplotlib->catboost) (3.1.1)\n",
      "Requirement already satisfied: narwhals>=1.15.1 in c:\\users\\chara\\appdata\\roaming\\python\\python312\\site-packages (from plotly->catboost) (1.24.1)\n"
     ]
    }
   ],
   "source": [
    "!pip install catboost"
   ]
  },
  {
   "cell_type": "code",
   "execution_count": 28,
   "id": "17364667",
   "metadata": {},
   "outputs": [
    {
     "name": "stdout",
     "output_type": "stream",
     "text": [
      "Defaulting to user installation because normal site-packages is not writeable\n",
      "Requirement already satisfied: xgboost in c:\\users\\chara\\appdata\\roaming\\python\\python312\\site-packages (3.0.2)\n",
      "Requirement already satisfied: numpy in c:\\users\\chara\\appdata\\roaming\\python\\python312\\site-packages (from xgboost) (1.26.3)\n",
      "Requirement already satisfied: scipy in c:\\users\\chara\\appdata\\roaming\\python\\python312\\site-packages (from xgboost) (1.15.1)\n"
     ]
    }
   ],
   "source": [
    "!pip install xgboost"
   ]
  },
  {
   "cell_type": "code",
   "execution_count": 29,
   "id": "614267c0",
   "metadata": {},
   "outputs": [],
   "source": [
    "import numpy as np\n",
    "import matplotlib.pyplot as plt\n",
    "import seaborn as sns\n",
    "import pandas as pd\n",
    "%matplotlib inline\n",
    "import warnings\n",
    "warnings.filterwarnings(\"ignore\")\n",
    "\n",
    "# Metrics\n",
    "from sklearn.metrics import mean_squared_error, r2_score, mean_absolute_error\n",
    "\n",
    "# Models\n",
    "from sklearn.neighbors import KNeighborsRegressor\n",
    "from sklearn.tree import DecisionTreeRegressor\n",
    "from sklearn.ensemble import RandomForestRegressor, AdaBoostRegressor\n",
    "from sklearn.svm import SVR\n",
    "\n",
    "# Model selection\n",
    "from sklearn.model_selection import RandomizedSearchCV\n",
    "\n",
    "# External regressors\n",
    "from catboost import CatBoostRegressor\n",
    "from xgboost import XGBRegressor\n"
   ]
  },
  {
   "cell_type": "code",
   "execution_count": 30,
   "id": "2e3e304b",
   "metadata": {},
   "outputs": [],
   "source": [
    "df=pd.read_csv('data/stud.csv')"
   ]
  },
  {
   "cell_type": "code",
   "execution_count": 31,
   "id": "0b2870f8",
   "metadata": {},
   "outputs": [
    {
     "data": {
      "text/html": [
       "<div>\n",
       "<style scoped>\n",
       "    .dataframe tbody tr th:only-of-type {\n",
       "        vertical-align: middle;\n",
       "    }\n",
       "\n",
       "    .dataframe tbody tr th {\n",
       "        vertical-align: top;\n",
       "    }\n",
       "\n",
       "    .dataframe thead th {\n",
       "        text-align: right;\n",
       "    }\n",
       "</style>\n",
       "<table border=\"1\" class=\"dataframe\">\n",
       "  <thead>\n",
       "    <tr style=\"text-align: right;\">\n",
       "      <th></th>\n",
       "      <th>gender</th>\n",
       "      <th>race/ethnicity</th>\n",
       "      <th>parental level of education</th>\n",
       "      <th>lunch</th>\n",
       "      <th>test preparation course</th>\n",
       "      <th>math score</th>\n",
       "      <th>reading score</th>\n",
       "      <th>writing score</th>\n",
       "    </tr>\n",
       "  </thead>\n",
       "  <tbody>\n",
       "    <tr>\n",
       "      <th>0</th>\n",
       "      <td>female</td>\n",
       "      <td>group B</td>\n",
       "      <td>bachelor's degree</td>\n",
       "      <td>standard</td>\n",
       "      <td>none</td>\n",
       "      <td>72</td>\n",
       "      <td>72</td>\n",
       "      <td>74</td>\n",
       "    </tr>\n",
       "    <tr>\n",
       "      <th>1</th>\n",
       "      <td>female</td>\n",
       "      <td>group C</td>\n",
       "      <td>some college</td>\n",
       "      <td>standard</td>\n",
       "      <td>completed</td>\n",
       "      <td>69</td>\n",
       "      <td>90</td>\n",
       "      <td>88</td>\n",
       "    </tr>\n",
       "    <tr>\n",
       "      <th>2</th>\n",
       "      <td>female</td>\n",
       "      <td>group B</td>\n",
       "      <td>master's degree</td>\n",
       "      <td>standard</td>\n",
       "      <td>none</td>\n",
       "      <td>90</td>\n",
       "      <td>95</td>\n",
       "      <td>93</td>\n",
       "    </tr>\n",
       "    <tr>\n",
       "      <th>3</th>\n",
       "      <td>male</td>\n",
       "      <td>group A</td>\n",
       "      <td>associate's degree</td>\n",
       "      <td>free/reduced</td>\n",
       "      <td>none</td>\n",
       "      <td>47</td>\n",
       "      <td>57</td>\n",
       "      <td>44</td>\n",
       "    </tr>\n",
       "    <tr>\n",
       "      <th>4</th>\n",
       "      <td>male</td>\n",
       "      <td>group C</td>\n",
       "      <td>some college</td>\n",
       "      <td>standard</td>\n",
       "      <td>none</td>\n",
       "      <td>76</td>\n",
       "      <td>78</td>\n",
       "      <td>75</td>\n",
       "    </tr>\n",
       "  </tbody>\n",
       "</table>\n",
       "</div>"
      ],
      "text/plain": [
       "   gender race/ethnicity  ... reading score writing score\n",
       "0  female        group B  ...            72            74\n",
       "1  female        group C  ...            90            88\n",
       "2  female        group B  ...            95            93\n",
       "3    male        group A  ...            57            44\n",
       "4    male        group C  ...            78            75\n",
       "\n",
       "[5 rows x 8 columns]"
      ]
     },
     "execution_count": 31,
     "metadata": {},
     "output_type": "execute_result"
    }
   ],
   "source": [
    "df.head()"
   ]
  },
  {
   "cell_type": "code",
   "execution_count": 32,
   "id": "1462af37",
   "metadata": {},
   "outputs": [],
   "source": [
    "x=df.drop(columns=['math score'],axis=1)"
   ]
  },
  {
   "cell_type": "code",
   "execution_count": 33,
   "id": "f7c56d1f",
   "metadata": {},
   "outputs": [],
   "source": [
    "y=df['math score']"
   ]
  },
  {
   "cell_type": "code",
   "execution_count": 34,
   "id": "ab8bdcce",
   "metadata": {},
   "outputs": [
    {
     "data": {
      "text/html": [
       "<div>\n",
       "<style scoped>\n",
       "    .dataframe tbody tr th:only-of-type {\n",
       "        vertical-align: middle;\n",
       "    }\n",
       "\n",
       "    .dataframe tbody tr th {\n",
       "        vertical-align: top;\n",
       "    }\n",
       "\n",
       "    .dataframe thead th {\n",
       "        text-align: right;\n",
       "    }\n",
       "</style>\n",
       "<table border=\"1\" class=\"dataframe\">\n",
       "  <thead>\n",
       "    <tr style=\"text-align: right;\">\n",
       "      <th></th>\n",
       "      <th>gender</th>\n",
       "      <th>race/ethnicity</th>\n",
       "      <th>parental level of education</th>\n",
       "      <th>lunch</th>\n",
       "      <th>test preparation course</th>\n",
       "      <th>reading score</th>\n",
       "      <th>writing score</th>\n",
       "    </tr>\n",
       "  </thead>\n",
       "  <tbody>\n",
       "    <tr>\n",
       "      <th>0</th>\n",
       "      <td>female</td>\n",
       "      <td>group B</td>\n",
       "      <td>bachelor's degree</td>\n",
       "      <td>standard</td>\n",
       "      <td>none</td>\n",
       "      <td>72</td>\n",
       "      <td>74</td>\n",
       "    </tr>\n",
       "    <tr>\n",
       "      <th>1</th>\n",
       "      <td>female</td>\n",
       "      <td>group C</td>\n",
       "      <td>some college</td>\n",
       "      <td>standard</td>\n",
       "      <td>completed</td>\n",
       "      <td>90</td>\n",
       "      <td>88</td>\n",
       "    </tr>\n",
       "    <tr>\n",
       "      <th>2</th>\n",
       "      <td>female</td>\n",
       "      <td>group B</td>\n",
       "      <td>master's degree</td>\n",
       "      <td>standard</td>\n",
       "      <td>none</td>\n",
       "      <td>95</td>\n",
       "      <td>93</td>\n",
       "    </tr>\n",
       "    <tr>\n",
       "      <th>3</th>\n",
       "      <td>male</td>\n",
       "      <td>group A</td>\n",
       "      <td>associate's degree</td>\n",
       "      <td>free/reduced</td>\n",
       "      <td>none</td>\n",
       "      <td>57</td>\n",
       "      <td>44</td>\n",
       "    </tr>\n",
       "    <tr>\n",
       "      <th>4</th>\n",
       "      <td>male</td>\n",
       "      <td>group C</td>\n",
       "      <td>some college</td>\n",
       "      <td>standard</td>\n",
       "      <td>none</td>\n",
       "      <td>78</td>\n",
       "      <td>75</td>\n",
       "    </tr>\n",
       "  </tbody>\n",
       "</table>\n",
       "</div>"
      ],
      "text/plain": [
       "   gender race/ethnicity  ... reading score writing score\n",
       "0  female        group B  ...            72            74\n",
       "1  female        group C  ...            90            88\n",
       "2  female        group B  ...            95            93\n",
       "3    male        group A  ...            57            44\n",
       "4    male        group C  ...            78            75\n",
       "\n",
       "[5 rows x 7 columns]"
      ]
     },
     "execution_count": 34,
     "metadata": {},
     "output_type": "execute_result"
    }
   ],
   "source": [
    "x.head()"
   ]
  },
  {
   "cell_type": "code",
   "execution_count": 35,
   "id": "b9051f57",
   "metadata": {},
   "outputs": [
    {
     "data": {
      "text/plain": [
       "0    72\n",
       "1    69\n",
       "2    90\n",
       "3    47\n",
       "4    76\n",
       "Name: math score, dtype: int64"
      ]
     },
     "execution_count": 35,
     "metadata": {},
     "output_type": "execute_result"
    }
   ],
   "source": [
    "y.head()"
   ]
  },
  {
   "cell_type": "code",
   "execution_count": 36,
   "id": "92635e76",
   "metadata": {},
   "outputs": [],
   "source": [
    "num_fearures=x.select_dtypes(exclude='object').columns\n",
    "cat_features=x.select_dtypes(include='object').columns\n",
    "\n",
    "from sklearn.preprocessing import StandardScaler, OneHotEncoder\n",
    "from sklearn.compose import ColumnTransformer\n",
    "\n",
    "numeric_transformer=StandardScaler()\n",
    "oh_transformer=OneHotEncoder()\n",
    "preprocesser=ColumnTransformer(\n",
    "    [\n",
    "        (\"OneHotEncoder\",oh_transformer,cat_features),\n",
    "        (\"StandardScaler\",numeric_transformer,num_fearures),\n",
    "    ]\n",
    ")"
   ]
  },
  {
   "cell_type": "code",
   "execution_count": 37,
   "id": "d23e6d9e",
   "metadata": {},
   "outputs": [],
   "source": [
    "x=preprocesser.fit_transform(x)"
   ]
  },
  {
   "cell_type": "code",
   "execution_count": 38,
   "id": "fb2c6b4a",
   "metadata": {},
   "outputs": [
    {
     "data": {
      "text/plain": [
       "(1000, 19)"
      ]
     },
     "execution_count": 38,
     "metadata": {},
     "output_type": "execute_result"
    }
   ],
   "source": [
    "x.shape"
   ]
  },
  {
   "cell_type": "code",
   "execution_count": 39,
   "id": "01b979d9",
   "metadata": {},
   "outputs": [
    {
     "data": {
      "text/plain": [
       "((800, 19), (200, 19), (800,), (200,))"
      ]
     },
     "execution_count": 39,
     "metadata": {},
     "output_type": "execute_result"
    }
   ],
   "source": [
    "from sklearn.model_selection import train_test_split\n",
    "x_train,x_test,y_train,y_test=train_test_split(x,y,test_size=0.2,random_state=42)\n",
    "x_train.shape, x_test.shape, y_train.shape, y_test.shape"
   ]
  },
  {
   "cell_type": "code",
   "execution_count": 40,
   "id": "86b88980",
   "metadata": {},
   "outputs": [],
   "source": [
    "def evaluate_model(true,predicted):\n",
    "    mae=mean_absolute_error(true,predicted)\n",
    "    mse=mean_squared_error(true,predicted)\n",
    "    rmse=np.sqrt(mse)\n",
    "    r2=r2_score(true,predicted)\n",
    "    return mae,rmse,r2\n"
   ]
  },
  {
   "cell_type": "code",
   "execution_count": 45,
   "id": "73c21ea4",
   "metadata": {},
   "outputs": [
    {
     "name": "stdout",
     "output_type": "stream",
     "text": [
      "LinearRegression\n",
      "Model Performance for Training set: \n",
      "-Root Mean Squared Error: 5.3231\n",
      "-Mean Absolute Error: 4.2667\n",
      "-R2 score: 0.8743\n",
      "--------------------------------------\n",
      "Model Performance for Test set: \n",
      "-Root Mean Squared Error: 5.3940\n",
      "-Mean Absolute Error: 4.2148\n",
      "-R2 score: 0.8804\n",
      "======================================\n",
      "Ridge\n",
      "Model Performance for Training set: \n",
      "-Root Mean Squared Error: 5.3233\n",
      "-Mean Absolute Error: 4.2650\n",
      "-R2 score: 0.8743\n",
      "--------------------------------------\n",
      "Model Performance for Test set: \n",
      "-Root Mean Squared Error: 5.3904\n",
      "-Mean Absolute Error: 4.2111\n",
      "-R2 score: 0.8806\n",
      "======================================\n",
      "Lasso\n",
      "Model Performance for Training set: \n",
      "-Root Mean Squared Error: 6.5938\n",
      "-Mean Absolute Error: 5.2063\n",
      "-R2 score: 0.8071\n",
      "--------------------------------------\n",
      "Model Performance for Test set: \n",
      "-Root Mean Squared Error: 6.5197\n",
      "-Mean Absolute Error: 5.1579\n",
      "-R2 score: 0.8253\n",
      "======================================\n",
      "KNeighborsRegressor\n",
      "Model Performance for Training set: \n",
      "-Root Mean Squared Error: 5.7077\n",
      "-Mean Absolute Error: 4.5167\n",
      "-R2 score: 0.8555\n",
      "--------------------------------------\n",
      "Model Performance for Test set: \n",
      "-Root Mean Squared Error: 7.2530\n",
      "-Mean Absolute Error: 5.6210\n",
      "-R2 score: 0.7838\n",
      "======================================\n",
      "DecisionTreeRegressor\n",
      "Model Performance for Training set: \n",
      "-Root Mean Squared Error: 0.2795\n",
      "-Mean Absolute Error: 0.0187\n",
      "-R2 score: 0.9997\n",
      "--------------------------------------\n",
      "Model Performance for Test set: \n",
      "-Root Mean Squared Error: 8.3603\n",
      "-Mean Absolute Error: 6.6250\n",
      "-R2 score: 0.7128\n",
      "======================================\n",
      "RandomForestRegressor\n",
      "Model Performance for Training set: \n",
      "-Root Mean Squared Error: 2.3241\n",
      "-Mean Absolute Error: 1.8409\n",
      "-R2 score: 0.9760\n",
      "--------------------------------------\n",
      "Model Performance for Test set: \n",
      "-Root Mean Squared Error: 6.0398\n",
      "-Mean Absolute Error: 4.6708\n",
      "-R2 score: 0.8501\n",
      "======================================\n",
      "AdaBoostRegressor\n",
      "Model Performance for Training set: \n",
      "-Root Mean Squared Error: 5.9338\n",
      "-Mean Absolute Error: 4.8259\n",
      "-R2 score: 0.8438\n",
      "--------------------------------------\n",
      "Model Performance for Test set: \n",
      "-Root Mean Squared Error: 6.1415\n",
      "-Mean Absolute Error: 4.8500\n",
      "-R2 score: 0.8450\n",
      "======================================\n",
      "SVR\n",
      "Model Performance for Training set: \n",
      "-Root Mean Squared Error: 6.5770\n",
      "-Mean Absolute Error: 4.8692\n",
      "-R2 score: 0.8081\n",
      "--------------------------------------\n",
      "Model Performance for Test set: \n",
      "-Root Mean Squared Error: 8.1266\n",
      "-Mean Absolute Error: 5.4015\n",
      "-R2 score: 0.7286\n",
      "======================================\n",
      "CatBoostRegressor\n",
      "Model Performance for Training set: \n",
      "-Root Mean Squared Error: 3.0427\n",
      "-Mean Absolute Error: 2.4054\n",
      "-R2 score: 0.9589\n",
      "--------------------------------------\n",
      "Model Performance for Test set: \n",
      "-Root Mean Squared Error: 6.0086\n",
      "-Mean Absolute Error: 4.6125\n",
      "-R2 score: 0.8516\n",
      "======================================\n",
      "XGBRegressor\n",
      "Model Performance for Training set: \n",
      "-Root Mean Squared Error: 1.0073\n",
      "-Mean Absolute Error: 0.6875\n",
      "-R2 score: 0.9955\n",
      "--------------------------------------\n",
      "Model Performance for Test set: \n",
      "-Root Mean Squared Error: 6.4733\n",
      "-Mean Absolute Error: 5.0577\n",
      "-R2 score: 0.8278\n",
      "======================================\n"
     ]
    }
   ],
   "source": [
    "models={\n",
    "    \"LinearRegression\":LinearRegression(),\n",
    "    \"Ridge\":Ridge(),\n",
    "    \"Lasso\":Lasso(),\n",
    "    \"KNeighborsRegressor\":KNeighborsRegressor(),\n",
    "    \"DecisionTreeRegressor\":DecisionTreeRegressor(),\n",
    "    \"RandomForestRegressor\":RandomForestRegressor(),\n",
    "    \"AdaBoostRegressor\":AdaBoostRegressor(), \n",
    "    \"SVR\":SVR(),\n",
    "    \"CatBoostRegressor\":CatBoostRegressor(verbose=0),\n",
    "    \"XGBRegressor\":XGBRegressor()\n",
    "}\n",
    "model_list=[]\n",
    "r2_list=[]\n",
    "for i in range(len(list(models))):\n",
    "    model=list(models.values())[i]\n",
    "    model.fit(x_train,y_train)\n",
    "    y_train_pred=model.predict(x_train)\n",
    "    y_test_pred=model.predict(x_test)\n",
    "\n",
    "    model_train_mae,model_train_rmse,model_train_r2=evaluate_model(y_train,y_train_pred)\n",
    "    model_test_mae,model_test_rmse,model_test_r2=evaluate_model(y_test,y_test_pred)\n",
    "    print(list(models.keys())[i])\n",
    "    model_list.append(list(models.keys())[i])\n",
    "\n",
    "    print(\"Model Performance for Training set: \")\n",
    "    print(\"-Root Mean Squared Error: {:.4f}\".format(model_train_rmse))\n",
    "    print(\"-Mean Absolute Error: {:.4f}\".format(model_train_mae))\n",
    "    print(\"-R2 score: {:.4f}\".format(model_train_r2))\n",
    "    print(\"--------------------------------------\")\n",
    "    print(\"Model Performance for Test set: \")\n",
    "    print(\"-Root Mean Squared Error: {:.4f}\".format(model_test_rmse))\n",
    "    print(\"-Mean Absolute Error: {:.4f}\".format(model_test_mae))\n",
    "    print(\"-R2 score: {:.4f}\".format(model_test_r2))\n",
    "    print(\"======================================\")\n",
    "    r2_list.append(model_test_r2)"
   ]
  },
  {
   "cell_type": "code",
   "execution_count": 46,
   "id": "82361367",
   "metadata": {},
   "outputs": [],
   "source": [
    "result_df = pd.DataFrame(list(zip(model_list, r2_list)), columns=['Model', 'R2 Score'])\n",
    "result_df = result_df.sort_values(by='R2 Score', ascending=False)"
   ]
  },
  {
   "cell_type": "code",
   "execution_count": 47,
   "id": "fa8d98f0",
   "metadata": {},
   "outputs": [
    {
     "data": {
      "text/html": [
       "<div>\n",
       "<style scoped>\n",
       "    .dataframe tbody tr th:only-of-type {\n",
       "        vertical-align: middle;\n",
       "    }\n",
       "\n",
       "    .dataframe tbody tr th {\n",
       "        vertical-align: top;\n",
       "    }\n",
       "\n",
       "    .dataframe thead th {\n",
       "        text-align: right;\n",
       "    }\n",
       "</style>\n",
       "<table border=\"1\" class=\"dataframe\">\n",
       "  <thead>\n",
       "    <tr style=\"text-align: right;\">\n",
       "      <th></th>\n",
       "      <th>Model</th>\n",
       "      <th>R2 Score</th>\n",
       "    </tr>\n",
       "  </thead>\n",
       "  <tbody>\n",
       "    <tr>\n",
       "      <th>1</th>\n",
       "      <td>Ridge</td>\n",
       "      <td>0.880593</td>\n",
       "    </tr>\n",
       "    <tr>\n",
       "      <th>0</th>\n",
       "      <td>LinearRegression</td>\n",
       "      <td>0.880433</td>\n",
       "    </tr>\n",
       "    <tr>\n",
       "      <th>8</th>\n",
       "      <td>CatBoostRegressor</td>\n",
       "      <td>0.851632</td>\n",
       "    </tr>\n",
       "    <tr>\n",
       "      <th>5</th>\n",
       "      <td>RandomForestRegressor</td>\n",
       "      <td>0.850090</td>\n",
       "    </tr>\n",
       "    <tr>\n",
       "      <th>6</th>\n",
       "      <td>AdaBoostRegressor</td>\n",
       "      <td>0.845000</td>\n",
       "    </tr>\n",
       "    <tr>\n",
       "      <th>9</th>\n",
       "      <td>XGBRegressor</td>\n",
       "      <td>0.827797</td>\n",
       "    </tr>\n",
       "    <tr>\n",
       "      <th>2</th>\n",
       "      <td>Lasso</td>\n",
       "      <td>0.825320</td>\n",
       "    </tr>\n",
       "    <tr>\n",
       "      <th>3</th>\n",
       "      <td>KNeighborsRegressor</td>\n",
       "      <td>0.783813</td>\n",
       "    </tr>\n",
       "    <tr>\n",
       "      <th>7</th>\n",
       "      <td>SVR</td>\n",
       "      <td>0.728600</td>\n",
       "    </tr>\n",
       "    <tr>\n",
       "      <th>4</th>\n",
       "      <td>DecisionTreeRegressor</td>\n",
       "      <td>0.712766</td>\n",
       "    </tr>\n",
       "  </tbody>\n",
       "</table>\n",
       "</div>"
      ],
      "text/plain": [
       "                   Model  R2 Score\n",
       "1                  Ridge  0.880593\n",
       "0       LinearRegression  0.880433\n",
       "8      CatBoostRegressor  0.851632\n",
       "5  RandomForestRegressor  0.850090\n",
       "6      AdaBoostRegressor  0.845000\n",
       "9           XGBRegressor  0.827797\n",
       "2                  Lasso  0.825320\n",
       "3    KNeighborsRegressor  0.783813\n",
       "7                    SVR  0.728600\n",
       "4  DecisionTreeRegressor  0.712766"
      ]
     },
     "execution_count": 47,
     "metadata": {},
     "output_type": "execute_result"
    }
   ],
   "source": [
    "result_df"
   ]
  },
  {
   "cell_type": "markdown",
   "id": "cd219a6e",
   "metadata": {},
   "source": [
    "Linear regression"
   ]
  },
  {
   "cell_type": "code",
   "execution_count": 49,
   "id": "8feda428",
   "metadata": {},
   "outputs": [
    {
     "name": "stdout",
     "output_type": "stream",
     "text": [
      "Linear Regression R2 Score:  0.8804332983749565\n"
     ]
    }
   ],
   "source": [
    "lin_model=LinearRegression(fit_intercept=True)\n",
    "lin_model=lin_model.fit(x_train,y_train)\n",
    "y_pred=lin_model.predict(x_test)\n",
    "score=r2_score(y_test,y_pred)\n",
    "print(\"Linear Regression R2 Score: \", score)"
   ]
  },
  {
   "cell_type": "markdown",
   "id": "229bc490",
   "metadata": {},
   "source": [
    "plot y_pred and y_test"
   ]
  },
  {
   "cell_type": "code",
   "execution_count": 50,
   "id": "8db57016",
   "metadata": {},
   "outputs": [
    {
     "data": {
      "text/plain": [
       "Text(0, 0.5, 'Predicted Values')"
      ]
     },
     "execution_count": 50,
     "metadata": {},
     "output_type": "execute_result"
    },
    {
     "data": {
      "image/png": "[encoded data removed]",
      "text/plain": [
       "<Figure size 640x480 with 1 Axes>"
      ]
     },
     "metadata": {},
     "output_type": "display_data"
    }
   ],
   "source": [
    "plt.scatter(y_test, y_pred)\n",
    "plt.xlabel(\"Actual Values\") \n",
    "plt.ylabel(\"Predicted Values\")"
   ]
  },
  {
   "cell_type": "markdown",
   "id": "6f7bc4c6",
   "metadata": {},
   "source": [
    "diff b/w actual and predicted values"
   ]
  },
  {
   "cell_type": "code",
   "execution_count": 51,
   "id": "62978803",
   "metadata": {},
   "outputs": [],
   "source": [
    "pred_df=pd.DataFrame({'Actual': y_test, 'Predicted': y_pred,'Difference': y_test - y_pred})"
   ]
  },
  {
   "cell_type": "code",
   "execution_count": 52,
   "id": "9d974d90",
   "metadata": {},
   "outputs": [
    {
     "data": {
      "text/html": [
       "<div>\n",
       "<style scoped>\n",
       "    .dataframe tbody tr th:only-of-type {\n",
       "        vertical-align: middle;\n",
       "    }\n",
       "\n",
       "    .dataframe tbody tr th {\n",
       "        vertical-align: top;\n",
       "    }\n",
       "\n",
       "    .dataframe thead th {\n",
       "        text-align: right;\n",
       "    }\n",
       "</style>\n",
       "<table border=\"1\" class=\"dataframe\">\n",
       "  <thead>\n",
       "    <tr style=\"text-align: right;\">\n",
       "      <th></th>\n",
       "      <th>Actual</th>\n",
       "      <th>Predicted</th>\n",
       "      <th>Difference</th>\n",
       "    </tr>\n",
       "  </thead>\n",
       "  <tbody>\n",
       "    <tr>\n",
       "      <th>521</th>\n",
       "      <td>91</td>\n",
       "      <td>76.387970</td>\n",
       "      <td>14.612030</td>\n",
       "    </tr>\n",
       "    <tr>\n",
       "      <th>737</th>\n",
       "      <td>53</td>\n",
       "      <td>58.885970</td>\n",
       "      <td>-5.885970</td>\n",
       "    </tr>\n",
       "    <tr>\n",
       "      <th>740</th>\n",
       "      <td>80</td>\n",
       "      <td>76.990265</td>\n",
       "      <td>3.009735</td>\n",
       "    </tr>\n",
       "    <tr>\n",
       "      <th>660</th>\n",
       "      <td>74</td>\n",
       "      <td>76.851804</td>\n",
       "      <td>-2.851804</td>\n",
       "    </tr>\n",
       "    <tr>\n",
       "      <th>411</th>\n",
       "      <td>84</td>\n",
       "      <td>87.627378</td>\n",
       "      <td>-3.627378</td>\n",
       "    </tr>\n",
       "    <tr>\n",
       "      <th>...</th>\n",
       "      <td>...</td>\n",
       "      <td>...</td>\n",
       "      <td>...</td>\n",
       "    </tr>\n",
       "    <tr>\n",
       "      <th>408</th>\n",
       "      <td>52</td>\n",
       "      <td>43.409149</td>\n",
       "      <td>8.590851</td>\n",
       "    </tr>\n",
       "    <tr>\n",
       "      <th>332</th>\n",
       "      <td>62</td>\n",
       "      <td>62.152214</td>\n",
       "      <td>-0.152214</td>\n",
       "    </tr>\n",
       "    <tr>\n",
       "      <th>208</th>\n",
       "      <td>74</td>\n",
       "      <td>67.888395</td>\n",
       "      <td>6.111605</td>\n",
       "    </tr>\n",
       "    <tr>\n",
       "      <th>613</th>\n",
       "      <td>65</td>\n",
       "      <td>67.022287</td>\n",
       "      <td>-2.022287</td>\n",
       "    </tr>\n",
       "    <tr>\n",
       "      <th>78</th>\n",
       "      <td>61</td>\n",
       "      <td>62.345132</td>\n",
       "      <td>-1.345132</td>\n",
       "    </tr>\n",
       "  </tbody>\n",
       "</table>\n",
       "<p>200 rows × 3 columns</p>\n",
       "</div>"
      ],
      "text/plain": [
       "     Actual  Predicted  Difference\n",
       "521      91  76.387970   14.612030\n",
       "737      53  58.885970   -5.885970\n",
       "740      80  76.990265    3.009735\n",
       "660      74  76.851804   -2.851804\n",
       "411      84  87.627378   -3.627378\n",
       "..      ...        ...         ...\n",
       "408      52  43.409149    8.590851\n",
       "332      62  62.152214   -0.152214\n",
       "208      74  67.888395    6.111605\n",
       "613      65  67.022287   -2.022287\n",
       "78       61  62.345132   -1.345132\n",
       "\n",
       "[200 rows x 3 columns]"
      ]
     },
     "execution_count": 52,
     "metadata": {},
     "output_type": "execute_result"
    }
   ],
   "source": [
    "pred_df"
   ]
  }
 ],
 "metadata": {
  "kernelspec": {
   "display_name": "Python 3",
   "language": "python",
   "name": "python3"
  },
  "language_info": {
   "codemirror_mode": {
    "name": "ipython",
    "version": 3
   },
   "file_extension": ".py",
   "mimetype": "text/x-python",
   "name": "python",
   "nbconvert_exporter": "python",
   "pygments_lexer": "ipython3",
   "version": "3.12.0"
  }
 },
 "nbformat": 4,
 "nbformat_minor": 5
}
